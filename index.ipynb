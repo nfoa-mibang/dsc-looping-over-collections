{
 "cells": [
  {
   "cell_type": "markdown",
   "metadata": {},
   "source": [
    "# Looping Over Collections\n",
    "\n",
    "## Introduction\n",
    "Loops allow us to iterate over each element in a collection, like a list. Perhaps we could already do that by writing out a line of code for each element in the collection, but that wouldn't be very efficient, would it? No, not at all. With loops, we can write one line of code that operates on each element in a collection. Pretty cool, right? Let's get started!\n",
    "\n",
    "## Objectives\n",
    "\n",
    "You will be able to:\n",
    "\n",
    "- Use a `for` loop to iterate over a collection\n",
    "\n",
    "## What is a for loop and how do I write one?\n",
    "\n",
    "A `for` loop in Python, is primarily used for going through elements of a list one by one. We'll use a simple collection with 4 elements `0,1,2,3` as an example. Without a loop, if we wanted to print each element of the list we'd have to write it out like we do below:"
   ]
  },
  {
   "cell_type": "markdown",
   "metadata": {},
   "source": [
    "Looping through Collections\n",
    "\n",
    "For one to succesfully loop through a collection they have to understand what looping is.\n",
    "\n",
    "what is looping?"
   ]
  },
  {
   "cell_type": "code",
   "execution_count": 34,
   "metadata": {},
   "outputs": [
    {
     "data": {
      "text/plain": [
       "['Jupyter', 'Python', 3, 5, 'Success']"
      ]
     },
     "execution_count": 34,
     "metadata": {},
     "output_type": "execute_result"
    }
   ],
   "source": [
    "collections_items = ['Jupyter', 'Python', 3, 5, 'Success']\n",
    "collections_items\n"
   ]
  },
  {
   "cell_type": "code",
   "execution_count": 30,
   "metadata": {
    "scrolled": true
   },
   "outputs": [
    {
     "name": "stdout",
     "output_type": "stream",
     "text": [
      "Jupyter\n",
      "Python\n",
      "3\n"
     ]
    }
   ],
   "source": [
    "print(collections_items[0])\n",
    "print(collections_items[1])\n",
    "print(collections_items[2])"
   ]
  },
  {
   "cell_type": "code",
   "execution_count": 36,
   "metadata": {},
   "outputs": [
    {
     "ename": "NameError",
     "evalue": "name 'collection_items' is not defined",
     "output_type": "error",
     "traceback": [
      "\u001b[1;31m---------------------------------------------------------------------------\u001b[0m",
      "\u001b[1;31mNameError\u001b[0m                                 Traceback (most recent call last)",
      "Cell \u001b[1;32mIn[36], line 2\u001b[0m\n\u001b[0;32m      1\u001b[0m \u001b[38;5;66;03m# Using for loop iterate through the collection_items\u001b[39;00m\n\u001b[1;32m----> 2\u001b[0m \u001b[38;5;28;01mfor\u001b[39;00m item \u001b[38;5;129;01min\u001b[39;00m collection_items:\n\u001b[0;32m      3\u001b[0m     \u001b[38;5;28mprint\u001b[39m(item)\n",
      "\u001b[1;31mNameError\u001b[0m: name 'collection_items' is not defined"
     ]
    }
   ],
   "source": [
    "# Using for loop iterate through the collection_items\n",
    "for item in collection_items:\n",
    "    print(item)"
   ]
  },
  {
   "cell_type": "code",
   "execution_count": 29,
   "metadata": {},
   "outputs": [
    {
     "data": {
      "text/plain": [
       "['Geography', 'Biology', 'Physics', 'Mathematics']"
      ]
     },
     "execution_count": 29,
     "metadata": {},
     "output_type": "execute_result"
    }
   ],
   "source": [
    "class_subjects = ['Geography', 'Biology', 'Physics', 'Mathematics']\n",
    "class_subjects\n"
   ]
  },
  {
   "cell_type": "code",
   "execution_count": 31,
   "metadata": {},
   "outputs": [
    {
     "name": "stdout",
     "output_type": "stream",
     "text": [
      "Physics\n"
     ]
    }
   ],
   "source": [
    "print(class_subjects[2])"
   ]
  },
  {
   "cell_type": "code",
   "execution_count": 33,
   "metadata": {},
   "outputs": [
    {
     "name": "stdout",
     "output_type": "stream",
     "text": [
      "Geography\n",
      "Biology\n",
      "Physics\n",
      "Mathematics\n"
     ]
    }
   ],
   "source": [
    "for item in class_subjects:\n",
    "    print(item)"
   ]
  },
  {
   "cell_type": "code",
   "execution_count": 43,
   "metadata": {},
   "outputs": [],
   "source": [
    "zero_to_three = [0, 1, 2, 3]"
   ]
  },
  {
   "cell_type": "code",
   "execution_count": 45,
   "metadata": {},
   "outputs": [
    {
     "name": "stdout",
     "output_type": "stream",
     "text": [
      "0\n",
      "1\n",
      "2\n",
      "3\n"
     ]
    }
   ],
   "source": [
    "print(zero_to_three[0])\n",
    "print(zero_to_three[1])\n",
    "print(zero_to_three[2])\n",
    "print(zero_to_three[3])"
   ]
  },
  {
   "cell_type": "code",
   "execution_count": null,
   "metadata": {},
   "outputs": [],
   "source": []
  },
  {
   "cell_type": "code",
   "execution_count": 54,
   "metadata": {},
   "outputs": [
    {
     "ename": "NameError",
     "evalue": "name 'zero_to_three' is not defined",
     "output_type": "error",
     "traceback": [
      "\u001b[1;31m---------------------------------------------------------------------------\u001b[0m",
      "\u001b[1;31mNameError\u001b[0m                                 Traceback (most recent call last)",
      "Cell \u001b[1;32mIn[54], line 2\u001b[0m\n\u001b[0;32m      1\u001b[0m iteration_count \u001b[38;5;241m=\u001b[39m \u001b[38;5;241m0\u001b[39m\n\u001b[1;32m----> 2\u001b[0m \u001b[38;5;28;01mfor\u001b[39;00m whatever_we_want \u001b[38;5;129;01min\u001b[39;00m zero_to_three:\n\u001b[0;32m      3\u001b[0m     iteration_count \u001b[38;5;241m+\u001b[39m\u001b[38;5;241m=\u001b[39m \u001b[38;5;241m1\u001b[39m\n\u001b[0;32m      4\u001b[0m     \u001b[38;5;28mprint\u001b[39m(\u001b[38;5;124m\"\u001b[39m\u001b[38;5;124mThis iteration:\u001b[39m\u001b[38;5;124m\"\u001b[39m, iteration_count)\n",
      "\u001b[1;31mNameError\u001b[0m: name 'zero_to_three' is not defined"
     ]
    }
   ],
   "source": [
    "iteration_count = 0\n",
    "for whatever_we_want in zero_to_three:\n",
    "    iteration_count += 1\n",
    "    print(\"This iteration:\", iteration_count)"
   ]
  },
  {
   "cell_type": "markdown",
   "metadata": {},
   "source": [
    "Great! We were able to reproduce the exact same functionality as we had previously. However, in this example, we used only **2** lines of code. \n",
    "\n",
    "Now, the `for` loop may look a bit confusing at first, so, let's take a closer look at the syntax. A `for` loop essentially has two necessary components, which we'll refer to as arguments. The first argument is the variable name we are assigning to an element, or in this case, `number`. The second argument is the collection we are iterating over, or in this case, the list `zero_to_three`.\n",
    "\n",
    "We can give any name to the variable. The important thing to understand here is **it is the reference** to each **element** in the collection. So, when we print `number`, we are printing an element of the collection `zero_to_three`. \n",
    "\n",
    "Every `for` loop needs to end the first line with a colon `:`. This indicates the start of the **block** of code. The block is simply the code that we want executed in each iteration of our loop. So, if all we want to do is print each element, then the line that prints the element is our block. Our block is indicated by indenting. So the first line after the colon `:` should be indented. When we want to end our block, we simply stop indenting. Any code following the `for` loop will only be executed after the `for` loop finishes.\n",
    "\n",
    "> *Remember, the block of code in a `for` loop is executed the same amount of times as there are elements in the collection.*\n",
    "\n",
    "Let's take a look at changing the variable names and adding more code to our example:"
   ]
  },
  {
   "cell_type": "code",
   "execution_count": 40,
   "metadata": {},
   "outputs": [
    {
     "name": "stdout",
     "output_type": "stream",
     "text": [
      "Orange\n",
      "mangoes\n",
      "Bananas\n",
      "Pineapples\n",
      "Kiwi\n"
     ]
    }
   ],
   "source": [
    "list_fruits = ['Orange', 'mangoes', 'Bananas', 'Pineapples', 'Kiwi']\n",
    "for fruit in list_fruits:\n",
    "    print(fruit)"
   ]
  },
  {
   "cell_type": "code",
   "execution_count": 42,
   "metadata": {},
   "outputs": [
    {
     "name": "stdout",
     "output_type": "stream",
     "text": [
      "This is iteration: 1\n",
      "Kiwi\n",
      "This is iteration: 2\n",
      "Kiwi\n",
      "This is iteration: 3\n",
      "Kiwi\n",
      "This is iteration: 4\n",
      "Kiwi\n",
      "This is iteration: 5\n",
      "Kiwi\n"
     ]
    }
   ],
   "source": [
    "iteration_count = 0\n",
    "for fruits in list_fruits:\n",
    "    iteration_count += 1\n",
    "    print(\"This is iteration:\", iteration_count)\n",
    "    print(fruit)\n",
    "\n",
    "\n",
    "#    iteration_count += 1\n",
    "#    print(\"this is iteration:\",iteration_count)\n",
    "#    print(whatever_we_want)\n",
    "# print('The for loop is finished now! I am not in the for loop block,which is why I only printed once!\")\n"
   ]
  },
  {
   "cell_type": "markdown",
   "metadata": {},
   "source": [
    "## Using list elements as indices\n",
    "\n",
    "In the examples above, we used the elements in our list to perform an operation, which was printing them. We can also use a list of numbers to access elements from another list. Let's take a look at an example."
   ]
  },
  {
   "cell_type": "code",
   "execution_count": 51,
   "metadata": {},
   "outputs": [
    {
     "data": {
      "text/plain": [
       "'Croatia'"
      ]
     },
     "execution_count": 51,
     "metadata": {},
     "output_type": "execute_result"
    }
   ],
   "source": [
    "countries = ['Croatia', 'USA', 'Argentina', 'France', 'Brazil', 'Japan', 'Vietnam']\n",
    "countries[0]"
   ]
  },
  {
   "cell_type": "code",
   "execution_count": 53,
   "metadata": {},
   "outputs": [
    {
     "name": "stdout",
     "output_type": "stream",
     "text": [
      "The counytry at index: 0 is\n",
      "Croatia\n",
      "\n",
      "The counytry at index: 1 is\n",
      "USA\n",
      "\n",
      "The counytry at index: 2 is\n",
      "Argentina\n",
      "\n",
      "The counytry at index: 3 is\n",
      "France\n",
      "\n",
      "The counytry at index: 4 is\n",
      "Brazil\n",
      "\n",
      "The counytry at index: 5 is\n",
      "Japan\n",
      "\n",
      "The counytry at index: 6 is\n",
      "Vietnam\n",
      "\n"
     ]
    }
   ],
   "source": [
    "indices = [0,1,2,3,4,5,6]\n",
    "for index in indices:\n",
    "    print('The counytry at indorex:',index, 'is')\n",
    "    print(countries[index])\n",
    "    print('') #add a space after every print statement"
   ]
  },
  {
   "cell_type": "markdown",
   "metadata": {},
   "source": [
    "So, in the example above, we are still using the elements in the list of numbers from 0 to 7 in our `for` loop, but we are instead using them to access each element of another list. This example is a bit contrived, but perhaps you have two lists that are ordered correctly and have information like the capital cities in one list and the corresponding countries in another. How would we print both of those out in the same line?"
   ]
  },
  {
   "cell_type": "code",
   "execution_count": 46,
   "metadata": {},
   "outputs": [],
   "source": [
    "countries = ['Croatia', 'USA', 'Argentina', 'France', 'Brazil', 'Japan', 'Vietnam']\n",
    "cities = ['Zagreb', 'District of Columbia', 'Buenos Aires', 'Paris', 'Rio de Janeiro', 'Tokyo', 'Hanoi']"
   ]
  },
  {
   "cell_type": "code",
   "execution_count": 56,
   "metadata": {},
   "outputs": [
    {
     "name": "stdout",
     "output_type": "stream",
     "text": [
      "The city is Zagreb, The country is Croatia\n",
      "The city is District of Columbia, The country is USA\n",
      "The city is Buenos Aires, The country is Argentina\n",
      "The city is Paris, The country is France\n",
      "The city is Rio de Janeiro, The country is Brazil\n",
      "The city is Tokyo, The country is Japan\n",
      "The city is Hanoi, The country is Vietnam\n"
     ]
    }
   ],
   "source": [
    "for index in [0,1,2,3,4,5,6]:\n",
    "    print('The city is', cities[index]+\",\", 'The country is', countries[index])"
   ]
  },
  {
   "cell_type": "markdown",
   "metadata": {},
   "source": [
    "Of course, this does not work if our indices do not match up with the size of our list."
   ]
  },
  {
   "cell_type": "code",
   "execution_count": 58,
   "metadata": {},
   "outputs": [
    {
     "name": "stdout",
     "output_type": "stream",
     "text": [
      "Zagreb, Croatia\n",
      "District of Columbia, USA\n",
      "Buenos Aires, Argentina\n",
      "Paris, France\n",
      "Rio de Janeiro, Brazil\n",
      "Tokyo, Japan\n",
      "Hanoi, Vietnam\n"
     ]
    },
    {
     "ename": "IndexError",
     "evalue": "list index out of range",
     "output_type": "error",
     "traceback": [
      "\u001b[1;31m---------------------------------------------------------------------------\u001b[0m",
      "\u001b[1;31mIndexError\u001b[0m                                Traceback (most recent call last)",
      "Cell \u001b[1;32mIn[58], line 2\u001b[0m\n\u001b[0;32m      1\u001b[0m \u001b[38;5;28;01mfor\u001b[39;00m index \u001b[38;5;129;01min\u001b[39;00m [\u001b[38;5;241m0\u001b[39m,\u001b[38;5;241m1\u001b[39m,\u001b[38;5;241m2\u001b[39m,\u001b[38;5;241m3\u001b[39m,\u001b[38;5;241m4\u001b[39m,\u001b[38;5;241m5\u001b[39m,\u001b[38;5;241m6\u001b[39m,\u001b[38;5;241m7\u001b[39m,\u001b[38;5;241m8\u001b[39m,\u001b[38;5;241m9\u001b[39m,\u001b[38;5;241m10\u001b[39m]:\n\u001b[1;32m----> 2\u001b[0m     \u001b[38;5;28mprint\u001b[39m(cities[index]\u001b[38;5;241m+\u001b[39m\u001b[38;5;124m\"\u001b[39m\u001b[38;5;124m,\u001b[39m\u001b[38;5;124m\"\u001b[39m, countries[index])\n",
      "\u001b[1;31mIndexError\u001b[0m: list index out of range"
     ]
    }
   ],
   "source": [
    "for index in [0,1,2,3,4,5,6,7,8,9,10]:\n",
    "    print(cities[index]+\",\", countries[index])"
   ]
  },
  {
   "cell_type": "markdown",
   "metadata": {},
   "source": [
    "So, the preferred way of figuring out the number of iterations on a list when you are unsure of its length would be to use the `len` function to calculate the size of the list."
   ]
  },
  {
   "cell_type": "code",
   "execution_count": 12,
   "metadata": {},
   "outputs": [
    {
     "data": {
      "text/plain": [
       "7"
      ]
     },
     "execution_count": 12,
     "metadata": {},
     "output_type": "execute_result"
    }
   ],
   "source": [
    "len(countries)"
   ]
  },
  {
   "cell_type": "markdown",
   "metadata": {},
   "source": [
    "Then we can turn this length into a successive list of elements in the following way:   "
   ]
  },
  {
   "cell_type": "markdown",
   "metadata": {},
   "source": [
    "First, create a range object:"
   ]
  },
  {
   "cell_type": "code",
   "execution_count": 13,
   "metadata": {},
   "outputs": [
    {
     "data": {
      "text/plain": [
       "range(0, 7)"
      ]
     },
     "execution_count": 13,
     "metadata": {},
     "output_type": "execute_result"
    }
   ],
   "source": [
    "range(0, len(countries))"
   ]
  },
  {
   "cell_type": "markdown",
   "metadata": {},
   "source": [
    "And then convert this into a list:"
   ]
  },
  {
   "cell_type": "code",
   "execution_count": 14,
   "metadata": {},
   "outputs": [
    {
     "data": {
      "text/plain": [
       "[0, 1, 2, 3, 4, 5, 6]"
      ]
     },
     "execution_count": 14,
     "metadata": {},
     "output_type": "execute_result"
    }
   ],
   "source": [
    "list(range(0, len(countries)))"
   ]
  },
  {
   "cell_type": "markdown",
   "metadata": {},
   "source": [
    "Note that the range object is marking the starting and ending point, and excluding the end.  So this works perfectly:"
   ]
  },
  {
   "cell_type": "code",
   "execution_count": 15,
   "metadata": {},
   "outputs": [
    {
     "name": "stdout",
     "output_type": "stream",
     "text": [
      "Zagreb, Croatia\n",
      "District of Columbia, USA\n",
      "Buenos Aires, Argentina\n",
      "Paris, France\n",
      "Rio de Janeiro, Brazil\n",
      "Tokyo, Japan\n",
      "Hanoi, Vietnam\n"
     ]
    }
   ],
   "source": [
    "for index in list(range(0, len(countries))):\n",
    "    print(cities[index]+\",\", countries[index])"
   ]
  },
  {
   "cell_type": "markdown",
   "metadata": {},
   "source": [
    "And as we add or subtract countries, we will still be iterating through our list elements."
   ]
  },
  {
   "cell_type": "code",
   "execution_count": null,
   "metadata": {},
   "outputs": [],
   "source": [
    "indices = [0, 2, 3, 4, 5, 6,]"
   ]
  },
  {
   "cell_type": "code",
   "execution_count": 60,
   "metadata": {},
   "outputs": [
    {
     "data": {
      "text/plain": [
       "['Croatia', 'USA', 'Argentina', 'France', 'Brazil', 'Japan', 'Vietnam']"
      ]
     },
     "execution_count": 60,
     "metadata": {},
     "output_type": "execute_result"
    }
   ],
   "source": [
    "countries"
   ]
  },
  {
   "cell_type": "code",
   "execution_count": 62,
   "metadata": {},
   "outputs": [
    {
     "data": {
      "text/plain": [
       "7"
      ]
     },
     "execution_count": 62,
     "metadata": {},
     "output_type": "execute_result"
    }
   ],
   "source": [
    "len(countries)"
   ]
  },
  {
   "cell_type": "code",
   "execution_count": 64,
   "metadata": {},
   "outputs": [
    {
     "data": {
      "text/plain": [
       "range(0, 7)"
      ]
     },
     "execution_count": 64,
     "metadata": {},
     "output_type": "execute_result"
    }
   ],
   "source": [
    "range(0, len(countries))"
   ]
  },
  {
   "cell_type": "code",
   "execution_count": 66,
   "metadata": {},
   "outputs": [
    {
     "data": {
      "text/plain": [
       "[0, 1, 2, 3, 4, 5, 6]"
      ]
     },
     "execution_count": 66,
     "metadata": {},
     "output_type": "execute_result"
    }
   ],
   "source": [
    "list(range(0, len(countries)))"
   ]
  },
  {
   "cell_type": "code",
   "execution_count": 16,
   "metadata": {},
   "outputs": [
    {
     "name": "stdout",
     "output_type": "stream",
     "text": [
      "Zagreb, Croatia\n",
      "District of Columbia, USA\n",
      "Buenos Aires, Argentina\n",
      "Paris, France\n",
      "Rio de Janeiro, Brazil\n",
      "Tokyo, Japan\n",
      "Hanoi, Vietnam\n",
      "Mexico City, Mexico\n"
     ]
    }
   ],
   "source": [
    "countries.append('Mexico')\n",
    "cities.append('Mexico City')\n",
    "\n",
    "for index in list(range(0, len(countries))):\n",
    "    print(cities[index]+\",\", countries[index])"
   ]
  },
  {
   "cell_type": "markdown",
   "metadata": {},
   "source": [
    "> Note: More conventionally, these contrived examples would employ the `enumerate()` method, but that is beyond the scope of the current lesson. At some point in the future, examine how this code snippet works:\n",
    "```\n",
    "for idx, item in enumerate(['A', 'B', 'C']):\n",
    "    print(idx, item)\n",
    "```\n",
    "\n",
    "## Iterating through different datatypes\n",
    "\n",
    "So far our loop variable has always been an element of a list that is a number.  However, our loop variable can represent any data type.  For example, let's have the loop variable represent each of the countries directly:"
   ]
  },
  {
   "cell_type": "code",
   "execution_count": 72,
   "metadata": {},
   "outputs": [
    {
     "name": "stdout",
     "output_type": "stream",
     "text": [
      "A String\n",
      "['a', 'list', 'of', 5, ['elements']]\n",
      "{'this': 'is a dictionary'}\n"
     ]
    }
   ],
   "source": [
    "different_elements = ['A String', [\"a\", 'list', \"of\", 5, [\"elements\"]], {'this': \"is a dictionary\"}]\n",
    "type(different_elements)\n",
    "for idx in different_elements:\n",
    "    print(idx)"
   ]
  },
  {
   "cell_type": "code",
   "execution_count": 17,
   "metadata": {},
   "outputs": [
    {
     "name": "stdout",
     "output_type": "stream",
     "text": [
      "A String\n",
      "['a', 'list', 'of', 5, ['elements']]\n",
      "{'this': 'is a dictionary'}\n"
     ]
    }
   ],
   "source": [
    "different_elements = ['A String', [\"a\", 'list', \"of\", 5, [\"elements\"]], {'this': \"is a dictionary\"}]\n",
    "for element in different_elements:\n",
    "    print(element)"
   ]
  },
  {
   "cell_type": "markdown",
   "metadata": {},
   "source": [
    "Now that we know we can iterate through a list that contains multiple data types, let's explore iterating through a data type that's **not a list**. \n",
    "\n",
    "Another collection we commonly will iterate over is a **dictionary**. Dictionaries differ from lists, on a high level, in that elements are **key, value pairs** instead of one single element. So, when we go through each item in a dictionary, we are actually working with a two-part element (with a key & value). Similarly to how we name a variable for the element in a list for a `for` loop, we name a variable for both the **key** and **value** when we iterate over a dictionary. However, in Python, we can't iterate directly over the dictionary, we iterate over the **items** of a dictionary, which are the key-value pairs.  Let's take a look at an example."
   ]
  },
  {
   "cell_type": "code",
   "execution_count": 18,
   "metadata": {},
   "outputs": [
    {
     "name": "stdout",
     "output_type": "stream",
     "text": [
      "dict_items([('first_name', 'Terrance'), ('last_name', 'KOAR'), ('favorite_language', 'Python')])\n"
     ]
    },
    {
     "data": {
      "text/plain": [
       "dict_items"
      ]
     },
     "execution_count": 18,
     "metadata": {},
     "output_type": "execute_result"
    }
   ],
   "source": [
    "example_dictionary = {'first_name': \"Terrance\", 'last_name': \"KOAR\", 'favorite_language': \"Python\"}\n",
    "print(example_dictionary.items())\n",
    "type(example_dictionary.items())"
   ]
  },
  {
   "cell_type": "markdown",
   "metadata": {},
   "source": [
    "Here we can see this **dict_items** object looks almost like a list, but each item has **two** parts, the **key** and **value**. So, in our first iteration, the first **key** will be **first_name**, and the first **value** will be **Terrance**."
   ]
  },
  {
   "cell_type": "code",
   "execution_count": 108,
   "metadata": {},
   "outputs": [
    {
     "name": "stdout",
     "output_type": "stream",
     "text": [
      "first_name\n"
     ]
    },
    {
     "ename": "NameError",
     "evalue": "name 'value' is not defined",
     "output_type": "error",
     "traceback": [
      "\u001b[1;31m---------------------------------------------------------------------------\u001b[0m",
      "\u001b[1;31mNameError\u001b[0m                                 Traceback (most recent call last)",
      "Cell \u001b[1;32mIn[108], line 6\u001b[0m\n\u001b[0;32m      4\u001b[0m \u001b[38;5;28;01mfor\u001b[39;00m key, Value \u001b[38;5;129;01min\u001b[39;00m example_dictionary\u001b[38;5;241m.\u001b[39mitems():\n\u001b[0;32m      5\u001b[0m     \u001b[38;5;28mprint\u001b[39m(key)\n\u001b[1;32m----> 6\u001b[0m     \u001b[38;5;28mprint\u001b[39m(value)\n",
      "\u001b[1;31mNameError\u001b[0m: name 'value' is not defined"
     ]
    }
   ],
   "source": [
    "example_dictionary = {'first_name': \"Terrance\", \n",
    "                      'last_name': \"KOAR\", \n",
    "                      'favorite_language': \"Python\"}\n",
    "for key, Value in example_dictionary.items():\n",
    "    print(key)\n",
    "    print(value)\n",
    "    \n"
   ]
  },
  {
   "cell_type": "code",
   "execution_count": 19,
   "metadata": {},
   "outputs": [
    {
     "name": "stdout",
     "output_type": "stream",
     "text": [
      "this is the key: first_name\n",
      "this is the value: Terrance \n",
      "\n",
      "this is the key: last_name\n",
      "this is the value: KOAR \n",
      "\n",
      "this is the key: favorite_language\n",
      "this is the value: Python \n",
      "\n"
     ]
    }
   ],
   "source": [
    "for key, value in example_dictionary.items():\n",
    "    print(\"this is the key:\", key)    \n",
    "    print(\"this is the value:\", value, \"\\n\")"
   ]
  },
  {
   "cell_type": "markdown",
   "metadata": {},
   "source": [
    "So, we can see that the **dict_items** object groups the key values together in a way that we can iterate over them and access them. We can even use them to inform our program to operate on keys and values in a certain way. Such as, the last name is inexplicably in all caps. Let's look at how we can rectify that and title case the last name when we print out the full name of the `example_dictionary` object."
   ]
  },
  {
   "cell_type": "code",
   "execution_count": 20,
   "metadata": {},
   "outputs": [
    {
     "name": "stdout",
     "output_type": "stream",
     "text": [
      "Terrance Koar\n"
     ]
    }
   ],
   "source": [
    "first_name = \"\"\n",
    "last_name = \"\"\n",
    "for key, value in example_dictionary.items():\n",
    "    if key == \"last_name\":\n",
    "        last_name = value.title()\n",
    "    if key == \"first_name\":\n",
    "        first_name = value\n",
    "print(first_name, last_name)"
   ]
  },
  {
   "cell_type": "code",
   "execution_count": null,
   "metadata": {},
   "outputs": [],
   "source": [
    "new_name = \"\""
   ]
  },
  {
   "cell_type": "markdown",
   "metadata": {},
   "source": [
    "## Conventional Naming Patterns\n",
    "\n",
    "Typically, when we are looping through a collection of things like `countries`, we will name the looping variable, `country`, since that is the singular version of the plural name that represents our list. This is convention and helps to not only remind us, but tell other people looking at our code what that variable is. Let's take a look at a couple examples."
   ]
  },
  {
   "cell_type": "code",
   "execution_count": 21,
   "metadata": {},
   "outputs": [
    {
     "name": "stdout",
     "output_type": "stream",
     "text": [
      "Croatia\n",
      "USA\n",
      "Argentina\n",
      "France\n",
      "Brazil\n",
      "Japan\n",
      "Vietnam\n",
      "Mexico\n"
     ]
    }
   ],
   "source": [
    "for country in countries:\n",
    "    print(country)"
   ]
  },
  {
   "cell_type": "code",
   "execution_count": 22,
   "metadata": {},
   "outputs": [
    {
     "name": "stdout",
     "output_type": "stream",
     "text": [
      "I love Mint Chocolate Chip ice cream!!\n",
      "I love Coffee ice cream!!\n",
      "I love Cookie Dough ice cream!!\n",
      "I love Fudge Mint Brownie ice cream!!\n",
      "I love Vanilla Bean ice cream!!\n"
     ]
    }
   ],
   "source": [
    "ice_cream_flavors = ['Mint Chocolate Chip', 'Coffee', 'Cookie Dough', 'Fudge Mint Brownie', 'Vanilla Bean']\n",
    "for ice_cream_flavor in ice_cream_flavors:\n",
    "    print('I love ' + ice_cream_flavor + ' ice cream!!')"
   ]
  },
  {
   "cell_type": "markdown",
   "metadata": {},
   "source": [
    "## Summary\n",
    "\n",
    "In this lesson, we learned how to use loops to iterate through a collection of elements. We started with iterating through a list of numbers, and performed the same operation on each number. Then we saw how we can loop through the numbers and have each number be used to access a successive element from a separate list, like `countries`.  We then saw that to ensure our list of numbers matched the indices of our other list, we had to use the expression, `for element in list(range(0, len(list)))`. Finally, we introduced a naming convention that is commonly used when naming the variable for our loops when iterating over a collection that is a list of common elements (i.e. `ice_cream_flavor` for a list of `ice_cream_flavors`)."
   ]
  }
 ],
 "metadata": {
  "kernelspec": {
   "display_name": "Python 3 (ipykernel)",
   "language": "python",
   "name": "python3"
  },
  "language_info": {
   "codemirror_mode": {
    "name": "ipython",
    "version": 3
   },
   "file_extension": ".py",
   "mimetype": "text/x-python",
   "name": "python",
   "nbconvert_exporter": "python",
   "pygments_lexer": "ipython3",
   "version": "3.12.7"
  }
 },
 "nbformat": 4,
 "nbformat_minor": 4
}
